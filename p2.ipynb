{
 "cells": [
  {
   "cell_type": "code",
   "execution_count": 3,
   "id": "b1db73b1",
   "metadata": {},
   "outputs": [
    {
     "name": "stdout",
     "output_type": "stream",
     "text": [
      "Enter the value 5\n",
      "5 km = 8.0 miles\n"
     ]
    }
   ],
   "source": [
    "#Write a Python program to convert kilometers to miles?\n",
    "n=int(input(\"Enter the value \"))\n",
    "miles=1.6*n\n",
    "\n",
    "print( n,\"km =\",miles,\"miles\")"
   ]
  },
  {
   "cell_type": "code",
   "execution_count": 4,
   "id": "aef25d0a",
   "metadata": {},
   "outputs": [
    {
     "name": "stdout",
     "output_type": "stream",
     "text": [
      "Enter the value 36\n",
      "36 Celsius = 96.8 Fahrenheit\n"
     ]
    }
   ],
   "source": [
    "#Write a Python program to convert Celsius to Fahrenheit?\n",
    "C=int(input(\"Enter the value \"))\n",
    "F = ( 1.8* C) + 32\n",
    "\n",
    "print( C,\"Celsius =\",F,\"Fahrenheit\")"
   ]
  },
  {
   "cell_type": "code",
   "execution_count": 8,
   "id": "6044837b",
   "metadata": {},
   "outputs": [
    {
     "name": "stdout",
     "output_type": "stream",
     "text": [
      "Enter the year2022\n",
      "Enter the month 6\n",
      "     June 2022\n",
      "Mo Tu We Th Fr Sa Su\n",
      "       1  2  3  4  5\n",
      " 6  7  8  9 10 11 12\n",
      "13 14 15 16 17 18 19\n",
      "20 21 22 23 24 25 26\n",
      "27 28 29 30\n",
      "\n"
     ]
    }
   ],
   "source": [
    "#Write a Python program to display calendar?\n",
    "import calendar\n",
    "y=int(input(\"Enter the year\"))\n",
    "m=int(input(\"Enter the month \"))\n",
    "\n",
    "print (calendar.month(y,m))"
   ]
  },
  {
   "cell_type": "code",
   "execution_count": 10,
   "id": "f1c6e106",
   "metadata": {},
   "outputs": [
    {
     "name": "stdout",
     "output_type": "stream",
     "text": [
      "Enter the larger number32\n",
      "Enter the smaller number 24\n",
      "swapped value of a 24\n",
      "swapped value of b 32\n"
     ]
    }
   ],
   "source": [
    "#Write a Python program to swap two variables without temp variable?\n",
    "a=int(input(\"Enter the larger number\"))\n",
    "b=int(input(\"Enter the smaller number \"))\n",
    "a=a+b\n",
    "b=a-b\n",
    "a=a-b\n",
    "\n",
    "print(\"swapped value of a\",a)\n",
    "print(\"swapped value of b\",b)\n"
   ]
  },
  {
   "cell_type": "code",
   "execution_count": 12,
   "id": "36acc1f8",
   "metadata": {},
   "outputs": [
    {
     "name": "stdout",
     "output_type": "stream",
     "text": [
      "Enter the value of a5\n",
      "Enter the value of b4\n",
      "Enter the value of c2\n",
      "(-10+12.24744871391589j) (-10-12.24744871391589j)\n"
     ]
    }
   ],
   "source": [
    "#Write a Python program to solve quadratic equation?\n",
    "import cmath\n",
    "a=int(input(\"Enter the value of a\"))\n",
    "b=int(input(\"Enter the value of b\"))\n",
    "c=int(input(\"Enter the value of c\"))\n",
    "#value of discriminant\n",
    "d=b**2-4*a*c\n",
    "sol1=(-b+cmath.sqrt(d))/2*a\n",
    "sol2=(-b-cmath.sqrt(d))/2*a\n",
    "print(sol1,sol2)"
   ]
  },
  {
   "cell_type": "code",
   "execution_count": null,
   "id": "bef50dca",
   "metadata": {},
   "outputs": [],
   "source": []
  }
 ],
 "metadata": {
  "kernelspec": {
   "display_name": "Python 3 (ipykernel)",
   "language": "python",
   "name": "python3"
  },
  "language_info": {
   "codemirror_mode": {
    "name": "ipython",
    "version": 3
   },
   "file_extension": ".py",
   "mimetype": "text/x-python",
   "name": "python",
   "nbconvert_exporter": "python",
   "pygments_lexer": "ipython3",
   "version": "3.9.7"
  }
 },
 "nbformat": 4,
 "nbformat_minor": 5
}
