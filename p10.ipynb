{
 "cells": [
  {
   "cell_type": "code",
   "execution_count": 7,
   "id": "0683d4fa",
   "metadata": {},
   "outputs": [
    {
     "name": "stdout",
     "output_type": "stream",
     "text": [
      "length of list5\n",
      "Enter the values6\n",
      "Enter the values7\n",
      "Enter the values3\n",
      "Enter the values9\n",
      "Enter the values9\n",
      "34\n"
     ]
    }
   ],
   "source": [
    "#Write a Python program to find sum of elements in list?\n",
    "l=[]\n",
    "n=int(input(\"length of list\"))\n",
    "for i in range(0,n):  \n",
    "    i=int(input(\"Enter the values\"))\n",
    "    l.append(i)\n",
    "    \n",
    "sum=0\n",
    "for i in l:\n",
    "    sum=sum+i\n",
    "print(sum)"
   ]
  },
  {
   "cell_type": "code",
   "execution_count": 7,
   "id": "dc4da5f9",
   "metadata": {},
   "outputs": [
    {
     "name": "stdout",
     "output_type": "stream",
     "text": [
      "length of list5\n",
      "Enter the values2\n",
      "Enter the values3\n",
      "Enter the values4\n",
      "Enter the values5\n",
      "Enter the values6\n",
      "720\n"
     ]
    }
   ],
   "source": [
    "#Write a Python program to Multiply all numbers in the list?\n",
    "l=[]\n",
    "n=int(input(\"length of list\"))\n",
    "while i >0 and len(l) <n:   \n",
    "    i=int(input(\"Enter the values\"))\n",
    "    l.append(i)\n",
    "    i=i+1\n",
    "mul=1\n",
    "for i in l:\n",
    "    mul=mul*i\n",
    "print(mul)\n"
   ]
  },
  {
   "cell_type": "code",
   "execution_count": 9,
   "id": "6c62d800",
   "metadata": {},
   "outputs": [
    {
     "name": "stdout",
     "output_type": "stream",
     "text": [
      "length of list5\n",
      "Enter the values6\n",
      "Enter the values9\n",
      "Enter the values23\n",
      "Enter the values48\n",
      "Enter the values35\n",
      "6\n"
     ]
    }
   ],
   "source": [
    "#Write a Python program to find smallest number in a list?\n",
    "l=[]\n",
    "n=int(input(\"length of list\"))\n",
    "while i >0 and len(l) <n:   \n",
    "    i=int(input(\"Enter the values\"))\n",
    "    l.append(i)\n",
    "    i=i+1\n",
    "print(min(l))"
   ]
  },
  {
   "cell_type": "code",
   "execution_count": 10,
   "id": "4c1d7aa1",
   "metadata": {},
   "outputs": [
    {
     "name": "stdout",
     "output_type": "stream",
     "text": [
      "length of list3\n",
      "Enter the values4\n",
      "Enter the values45\n",
      "Enter the values89\n",
      "89\n"
     ]
    }
   ],
   "source": [
    "#Write a Python program to find largest number in a list?\n",
    "l=[]\n",
    "n=int(input(\"length of list\"))\n",
    "while i >0 and len(l) <n:   \n",
    "    i=int(input(\"Enter the values\"))\n",
    "    l.append(i)\n",
    "    i=i+1\n",
    "print(max(l))"
   ]
  },
  {
   "cell_type": "code",
   "execution_count": 11,
   "id": "2d2693a5",
   "metadata": {},
   "outputs": [
    {
     "name": "stdout",
     "output_type": "stream",
     "text": [
      "length of list3\n",
      "Enter the values45\n",
      "Enter the values64\n",
      "Enter the values23\n",
      "45\n"
     ]
    }
   ],
   "source": [
    "#Write a Python program to find second largest number in a list?\n",
    "l=[]\n",
    "n=int(input(\"length of list\"))\n",
    "while i >0 and len(l) <n:   \n",
    "    i=int(input(\"Enter the values\"))\n",
    "    l.append(i)\n",
    "    i=i+1\n",
    "largest=max(l)\n",
    "l.remove(largest)\n",
    "print(max(l))"
   ]
  },
  {
   "cell_type": "code",
   "execution_count": 16,
   "id": "d3f95a10",
   "metadata": {},
   "outputs": [
    {
     "name": "stdout",
     "output_type": "stream",
     "text": [
      "length of list8\n",
      "Enter the values45\n",
      "Enter the values98\n",
      "Enter the values90\n",
      "Enter the values23\n",
      "Enter the values65\n",
      "Enter the values74\n",
      "Enter the values12\n",
      "Enter the values87\n",
      "Enter the Nth value5\n",
      "65\n"
     ]
    }
   ],
   "source": [
    "#Write a Python program to find N largest elements from a list?\n",
    "l=[]\n",
    "n=int(input(\"length of list\"))\n",
    "while i >0 and len(l) <n:   \n",
    "    i=int(input(\"Enter the values\"))\n",
    "    l.append(i)\n",
    "    i=i+1\n",
    "N=int(input(\"Enter the Nth value\"))\n",
    "for j in range(1,N):\n",
    "        largest=max(l)\n",
    "        l.remove(largest)\n",
    "print(max(l))"
   ]
  },
  {
   "cell_type": "code",
   "execution_count": 18,
   "id": "4cb92976",
   "metadata": {},
   "outputs": [
    {
     "name": "stdout",
     "output_type": "stream",
     "text": [
      "length of list5\n",
      "Enter the values10\n",
      "Enter the values12\n",
      "Enter the values34\n",
      "Enter the values5\n",
      "Enter the values7\n",
      "[10, 12, 34]\n"
     ]
    }
   ],
   "source": [
    "#Write a Python program to print even numbers in a list?\n",
    "l=[]\n",
    "n=int(input(\"length of list\"))\n",
    "while i >0 and len(l) <n:   \n",
    "    i=int(input(\"Enter the values\"))\n",
    "    l.append(i)\n",
    "    i=i+1\n",
    "even=[]\n",
    "for j in l:\n",
    "    if j%2==0:\n",
    "        even.append(j)\n",
    "print(even)\n",
    "        "
   ]
  },
  {
   "cell_type": "code",
   "execution_count": 19,
   "id": "695680df",
   "metadata": {},
   "outputs": [
    {
     "name": "stdout",
     "output_type": "stream",
     "text": [
      "length of list5\n",
      "Enter the values7\n",
      "Enter the values9\n",
      "Enter the values12\n",
      "Enter the values45\n",
      "Enter the values76\n",
      "[7, 9, 45]\n"
     ]
    }
   ],
   "source": [
    "#Write a Python program to print odd numbers in a List?\n",
    "l=[]\n",
    "n=int(input(\"length of list\"))\n",
    "while i >0 and len(l) <n:   \n",
    "    i=int(input(\"Enter the values\"))\n",
    "    l.append(i)\n",
    "    i=i+1\n",
    "even=[]\n",
    "for j in l:\n",
    "    if j%2!=0:\n",
    "        even.append(j)\n",
    "print(even)\n",
    "        "
   ]
  },
  {
   "cell_type": "code",
   "execution_count": 26,
   "id": "e883af60",
   "metadata": {},
   "outputs": [
    {
     "name": "stdout",
     "output_type": "stream",
     "text": [
      "[3, 7, 45]\n"
     ]
    }
   ],
   "source": [
    "#Write a Python program to Remove empty List from List?\n",
    "l=[3,[],7,[],45]\n",
    "\n",
    "l=[x for x in l if x!=[]]\n",
    "print(l)\n"
   ]
  },
  {
   "cell_type": "code",
   "execution_count": 9,
   "id": "c2878675",
   "metadata": {},
   "outputs": [
    {
     "name": "stdout",
     "output_type": "stream",
     "text": [
      "length of list3\n",
      "Enter the values6\n",
      "Enter the values8\n",
      "Enter the values4\n",
      "[6, 8, 4]\n"
     ]
    },
    {
     "data": {
      "text/plain": [
       "[6, 8, 4]"
      ]
     },
     "execution_count": 9,
     "metadata": {},
     "output_type": "execute_result"
    }
   ],
   "source": [
    "#Write a Python program to Cloning or Copying a list?\n",
    "\n",
    "def clone(l):\n",
    "        clone=[x for x in l ]\n",
    "        return clone\n",
    "l=[]\n",
    "n=int(input(\"length of list\"))\n",
    "for i in range(0,n):  \n",
    "    i=int(input(\"Enter the values\"))\n",
    "    l.append(i)\n",
    "print(l)\n",
    "clone(l)"
   ]
  },
  {
   "cell_type": "code",
   "execution_count": 10,
   "id": "e0d69cee",
   "metadata": {},
   "outputs": [
    {
     "name": "stdout",
     "output_type": "stream",
     "text": [
      "length of list4\n",
      "Enter the values2\n",
      "Enter the values4\n",
      "Enter the values2\n",
      "Enter the values5\n",
      "enter the value you want to count2\n",
      "2\n"
     ]
    }
   ],
   "source": [
    "#Write a Python program to Count occurrences of an element in a list?\n",
    "l=[]\n",
    "n=int(input(\"length of list\"))\n",
    "for i in range(0,n):  \n",
    "    i=int(input(\"Enter the values\"))\n",
    "    l.append(i)\n",
    "ele=int(input(\"enter the value you want to count\"))\n",
    "print(l.count(ele))"
   ]
  },
  {
   "cell_type": "code",
   "execution_count": null,
   "id": "1062f84b",
   "metadata": {},
   "outputs": [],
   "source": []
  }
 ],
 "metadata": {
  "kernelspec": {
   "display_name": "Python 3 (ipykernel)",
   "language": "python",
   "name": "python3"
  },
  "language_info": {
   "codemirror_mode": {
    "name": "ipython",
    "version": 3
   },
   "file_extension": ".py",
   "mimetype": "text/x-python",
   "name": "python",
   "nbconvert_exporter": "python",
   "pygments_lexer": "ipython3",
   "version": "3.9.7"
  }
 },
 "nbformat": 4,
 "nbformat_minor": 5
}
